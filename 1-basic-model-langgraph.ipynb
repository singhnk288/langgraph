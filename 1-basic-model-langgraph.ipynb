{
 "cells": [
  {
   "cell_type": "code",
   "execution_count": 7,
   "id": "e61c659b",
   "metadata": {},
   "outputs": [],
   "source": [
    "from langgraph.graph import StateGraph,START,END"
   ]
  },
  {
   "cell_type": "code",
   "execution_count": 2,
   "id": "a1954704",
   "metadata": {},
   "outputs": [],
   "source": [
    "from typing import TypedDict"
   ]
  },
  {
   "cell_type": "code",
   "execution_count": 3,
   "id": "c8505e4a",
   "metadata": {},
   "outputs": [],
   "source": [
    "class State(TypedDict):\n",
    "    inputMessage:str\n",
    "    outputMessage:str"
   ]
  },
  {
   "cell_type": "code",
   "execution_count": 10,
   "id": "5f726a77",
   "metadata": {},
   "outputs": [],
   "source": [
    "def writemessage(state:State) -> State:\n",
    "    inputMessage= state['inputMessage']\n",
    "    state['outputMessage'] = f\"Hi {inputMessage}, How can I help you ?\"\n",
    "    return state"
   ]
  },
  {
   "cell_type": "code",
   "execution_count": 20,
   "id": "a90dad55",
   "metadata": {},
   "outputs": [],
   "source": [
    "workflow = StateGraph(State)"
   ]
  },
  {
   "cell_type": "code",
   "execution_count": 21,
   "id": "e829da99",
   "metadata": {},
   "outputs": [
    {
     "data": {
      "text/plain": [
       "<langgraph.graph.state.StateGraph at 0x1ff0b705190>"
      ]
     },
     "execution_count": 21,
     "metadata": {},
     "output_type": "execute_result"
    }
   ],
   "source": [
    "workflow.add_node(\"writemessage\",writemessage)\n"
   ]
  },
  {
   "cell_type": "code",
   "execution_count": 22,
   "id": "f9a6034f",
   "metadata": {},
   "outputs": [
    {
     "data": {
      "text/plain": [
       "<langgraph.graph.state.StateGraph at 0x1ff0b705190>"
      ]
     },
     "execution_count": 22,
     "metadata": {},
     "output_type": "execute_result"
    }
   ],
   "source": [
    "workflow.add_edge(START,\"writemessage\")\n",
    "workflow.add_edge(\"writemessage\",END)"
   ]
  },
  {
   "cell_type": "code",
   "execution_count": 24,
   "id": "731cf4f7",
   "metadata": {},
   "outputs": [],
   "source": [
    "graph=workflow.compile()"
   ]
  },
  {
   "cell_type": "code",
   "execution_count": 25,
   "id": "17d89d94",
   "metadata": {},
   "outputs": [
    {
     "data": {
      "image/png": "[encoded data removed]",
      "text/plain": [
       "<langgraph.graph.state.CompiledStateGraph object at 0x000001FF0B7076E0>"
      ]
     },
     "execution_count": 25,
     "metadata": {},
     "output_type": "execute_result"
    }
   ],
   "source": [
    "graph"
   ]
  },
  {
   "cell_type": "code",
   "execution_count": 27,
   "id": "9b3d416f",
   "metadata": {},
   "outputs": [],
   "source": [
    "outputState = graph.invoke({\"inputMessage\":\"Neeraj\"})"
   ]
  },
  {
   "cell_type": "code",
   "execution_count": 28,
   "id": "1537575a",
   "metadata": {},
   "outputs": [
    {
     "data": {
      "text/plain": [
       "{'inputMessage': 'Neeraj', 'outputMessage': 'Hi Neeraj, How can I help you ?'}"
      ]
     },
     "execution_count": 28,
     "metadata": {},
     "output_type": "execute_result"
    }
   ],
   "source": [
    "outputState"
   ]
  }
 ],
 "metadata": {
  "kernelspec": {
   "display_name": "Python LangGraph(venv)",
   "language": "python",
   "name": "venv"
  },
  "language_info": {
   "codemirror_mode": {
    "name": "ipython",
    "version": 3
   },
   "file_extension": ".py",
   "mimetype": "text/x-python",
   "name": "python",
   "nbconvert_exporter": "python",
   "pygments_lexer": "ipython3",
   "version": "3.12.6"
  }
 },
 "nbformat": 4,
 "nbformat_minor": 5
}
