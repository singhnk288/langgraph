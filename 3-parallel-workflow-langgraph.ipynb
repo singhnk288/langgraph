{
 "cells": [
  {
   "cell_type": "code",
   "execution_count": 15,
   "id": "dde266e4",
   "metadata": {},
   "outputs": [
    {
     "data": {
      "text/plain": [
       "True"
      ]
     },
     "execution_count": 15,
     "metadata": {},
     "output_type": "execute_result"
    }
   ],
   "source": [
    "from langgraph.graph import StateGraph,START,END\n",
    "from dotenv import load_dotenv\n",
    "from pydantic import BaseModel,Field\n",
    "load_dotenv()"
   ]
  },
  {
   "cell_type": "code",
   "execution_count": 2,
   "id": "910d8c19",
   "metadata": {},
   "outputs": [],
   "source": [
    "from langchain_openai import ChatOpenAI\n",
    "from typing import TypedDict,Annotated\n",
    "from operator import add"
   ]
  },
  {
   "cell_type": "code",
   "execution_count": 7,
   "id": "666971d8",
   "metadata": {},
   "outputs": [],
   "source": [
    "model = ChatOpenAI(model='gpt-4o-mini')"
   ]
  },
  {
   "cell_type": "code",
   "execution_count": 3,
   "id": "444b3c98",
   "metadata": {},
   "outputs": [],
   "source": [
    "initialState ={\"inputText\":\"Yamuna Pollution - Rivers in India are considered to be extremely sacred and are treated with great respect wherever they flow. Once the river boasted of its clear blue water, but now it has turned into one of the most polluted rivers in India, especially around the capital – New Delhi.\"}"
   ]
  },
  {
   "cell_type": "code",
   "execution_count": 14,
   "id": "ed396a16",
   "metadata": {},
   "outputs": [],
   "source": [
    "class State(TypedDict):\n",
    "    inputText:str\n",
    "    grammerEval:str\n",
    "    logicAnalyticEval:str\n",
    "    textScore:Annotated[list[int],add]\n",
    "    avg_score:float\n"
   ]
  },
  {
   "cell_type": "code",
   "execution_count": 6,
   "id": "f0ec12c4",
   "metadata": {},
   "outputs": [],
   "source": [
    "# Structured Model\n",
    "class EvalStrucModel(BaseModel):\n",
    "    feedback:str = Field(description=\"Provide a summarize feedback in 100 words\")\n",
    "    score:int = Field(description=\"Provide scrore from 0 to 10\",ge=0,le=10)"
   ]
  },
  {
   "cell_type": "code",
   "execution_count": 8,
   "id": "cb6f51a6",
   "metadata": {},
   "outputs": [],
   "source": [
    "modelwithstruct=model.with_structured_output(EvalStrucModel)"
   ]
  },
  {
   "cell_type": "code",
   "execution_count": 36,
   "id": "d7bda213",
   "metadata": {},
   "outputs": [],
   "source": [
    "def grammerEval(state:State):\n",
    "    prompt = f\"Evaulate the provided sentence based on Grammer - {state['inputText']}\"\n",
    "    output = modelwithstruct.invoke(prompt)\n",
    "    feedback=output.feedback\n",
    "    score = output.score\n",
    "    return {\"grammerEval\":feedback,\"textScore\":[score]}"
   ]
  },
  {
   "cell_type": "code",
   "execution_count": 37,
   "id": "421f9847",
   "metadata": {},
   "outputs": [],
   "source": [
    "def logicAnalyticEval(state:State):\n",
    "    prompt = f\"Evaulate the provided sentence based on logic, completeness and analytical wise - {state['inputText']}\"\n",
    "    output = modelwithstruct.invoke(prompt)\n",
    "    feedback=output.feedback\n",
    "    score = output.score\n",
    "    return {\"logicAnalyticEval\":feedback,\"textScore\":[score]}"
   ]
  },
  {
   "cell_type": "code",
   "execution_count": null,
   "id": "50a83f66",
   "metadata": {},
   "outputs": [],
   "source": [
    "def calculateAvgScore(state:State):\n",
    "    #print(state)\n",
    "    avg_score = sum(state['textScore'])/len(state['textScore'])\n",
    "    return {\"avg_score\":avg_score}"
   ]
  },
  {
   "cell_type": "code",
   "execution_count": 38,
   "id": "f0afbeca",
   "metadata": {},
   "outputs": [],
   "source": [
    "workflow= StateGraph(State)"
   ]
  },
  {
   "cell_type": "code",
   "execution_count": 39,
   "id": "714698cf",
   "metadata": {},
   "outputs": [
    {
     "data": {
      "text/plain": [
       "<langgraph.graph.state.StateGraph at 0x1dc20a41df0>"
      ]
     },
     "execution_count": 39,
     "metadata": {},
     "output_type": "execute_result"
    }
   ],
   "source": [
    "workflow.add_node(\"grammerEval\",grammerEval)\n",
    "workflow.add_node(\"logicAnalyticEval\",logicAnalyticEval)\n",
    "workflow.add_node(\"calculateAvgScore\",calculateAvgScore)\n",
    "\n",
    "# edge \n",
    "workflow.add_edge(START,\"grammerEval\")\n",
    "workflow.add_edge(START,\"logicAnalyticEval\")\n",
    "workflow.add_edge(\"grammerEval\",\"calculateAvgScore\")\n",
    "workflow.add_edge(\"logicAnalyticEval\",\"calculateAvgScore\")\n",
    "workflow.add_edge(\"logicAnalyticEval\",END)"
   ]
  },
  {
   "cell_type": "code",
   "execution_count": 40,
   "id": "32cccaa9",
   "metadata": {},
   "outputs": [],
   "source": [
    "graph= workflow.compile()"
   ]
  },
  {
   "cell_type": "code",
   "execution_count": 41,
   "id": "7061b175",
   "metadata": {},
   "outputs": [
    {
     "data": {
      "image/png": "[encoded data removed]",
      "text/plain": [
       "<langgraph.graph.state.CompiledStateGraph object at 0x000001DC21F18DD0>"
      ]
     },
     "execution_count": 41,
     "metadata": {},
     "output_type": "execute_result"
    }
   ],
   "source": [
    "graph"
   ]
  },
  {
   "cell_type": "code",
   "execution_count": 42,
   "id": "371e6525",
   "metadata": {},
   "outputs": [
    {
     "name": "stdout",
     "output_type": "stream",
     "text": [
      "{'inputText': 'Our country has a rich history, diverse culture, valuable heritage and many unique aspects. Learning about these aspects lays the foundation of patriotism in children. The pride in their country motivates them to be good citizens and think about themselves as part of a larger community. In school, students are asked to write an essay on their country to increase their general knowledge and improve their writing skills. ', 'grammerEval': 'The sentence is well-structured, with clear and coherent thoughts. It effectively communicates the importance of cultural knowledge and patriotism in children. However, a slight improvement could be made by adding a coordinating conjunction before the last item in the list (\"unique aspects\"), to enhance the flow of the enumeration. Overall, the grammar is correct, and the writing is articulate.', 'logicAnalyticEval': \"The sentence presents a logical connection between understanding a country's history and culture and the development of patriotism among children. It is complete in its explanation of how such learning fosters citizenship. However, it could benefit from more specific examples or details to enhance its analytical depth. For instance, mentioning specific historical events or cultural practices could illustrate the rich heritage referred to. Overall, it effectively highlights the educational aspect but lacks some detailed analysis for a stronger impact.\", 'textScore': [9, 7]}\n"
     ]
    },
    {
     "data": {
      "text/plain": [
       "{'inputText': 'Our country has a rich history, diverse culture, valuable heritage and many unique aspects. Learning about these aspects lays the foundation of patriotism in children. The pride in their country motivates them to be good citizens and think about themselves as part of a larger community. In school, students are asked to write an essay on their country to increase their general knowledge and improve their writing skills. ',\n",
       " 'grammerEval': 'The sentence is well-structured, with clear and coherent thoughts. It effectively communicates the importance of cultural knowledge and patriotism in children. However, a slight improvement could be made by adding a coordinating conjunction before the last item in the list (\"unique aspects\"), to enhance the flow of the enumeration. Overall, the grammar is correct, and the writing is articulate.',\n",
       " 'logicAnalyticEval': \"The sentence presents a logical connection between understanding a country's history and culture and the development of patriotism among children. It is complete in its explanation of how such learning fosters citizenship. However, it could benefit from more specific examples or details to enhance its analytical depth. For instance, mentioning specific historical events or cultural practices could illustrate the rich heritage referred to. Overall, it effectively highlights the educational aspect but lacks some detailed analysis for a stronger impact.\",\n",
       " 'textScore': [9, 7],\n",
       " 'avg_score': 8.0}"
      ]
     },
     "execution_count": 42,
     "metadata": {},
     "output_type": "execute_result"
    }
   ],
   "source": [
    "inputText = \"Our country has a rich history, diverse culture, valuable heritage and many unique aspects. Learning about these aspects lays the foundation of patriotism in children. The pride in their country motivates them to be good citizens and think about themselves as part of a larger community. In school, students are asked to write an essay on their country to increase their general knowledge and improve their writing skills. \"\n",
    "result = graph.invoke({\"inputText\":inputText})\n",
    "result"
   ]
  },
  {
   "cell_type": "code",
   "execution_count": null,
   "id": "60ffc8aa",
   "metadata": {},
   "outputs": [],
   "source": []
  }
 ],
 "metadata": {
  "kernelspec": {
   "display_name": "Python LangGraph(venv)",
   "language": "python",
   "name": "venv"
  },
  "language_info": {
   "codemirror_mode": {
    "name": "ipython",
    "version": 3
   },
   "file_extension": ".py",
   "mimetype": "text/x-python",
   "name": "python",
   "nbconvert_exporter": "python",
   "pygments_lexer": "ipython3",
   "version": "3.12.6"
  }
 },
 "nbformat": 4,
 "nbformat_minor": 5
}
