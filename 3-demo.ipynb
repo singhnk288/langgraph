{
 "cells": [
  {
   "cell_type": "code",
   "execution_count": 1,
   "id": "0f61575e",
   "metadata": {},
   "outputs": [
    {
     "name": "stderr",
     "output_type": "stream",
     "text": [
      "<>:2: SyntaxWarning: invalid escape sequence '\\C'\n",
      "<>:2: SyntaxWarning: invalid escape sequence '\\C'\n",
      "C:\\Users\\hp\\AppData\\Local\\Temp\\ipykernel_3540\\1493463254.py:2: SyntaxWarning: invalid escape sequence '\\C'\n",
      "  path=\"D:\\Coding\\Listof_product_based_companies_final.xlsx\"\n"
     ]
    }
   ],
   "source": [
    "import pandas as pd \n",
    "path=\"D:\\Coding\\Listof_product_based_companies_final.xlsx\" "
   ]
  },
  {
   "cell_type": "code",
   "execution_count": 2,
   "id": "a90c2d4d",
   "metadata": {},
   "outputs": [
    {
     "data": {
      "text/html": [
       "<div>\n",
       "<style scoped>\n",
       "    .dataframe tbody tr th:only-of-type {\n",
       "        vertical-align: middle;\n",
       "    }\n",
       "\n",
       "    .dataframe tbody tr th {\n",
       "        vertical-align: top;\n",
       "    }\n",
       "\n",
       "    .dataframe thead th {\n",
       "        text-align: right;\n",
       "    }\n",
       "</style>\n",
       "<table border=\"1\" class=\"dataframe\">\n",
       "  <thead>\n",
       "    <tr style=\"text-align: right;\">\n",
       "      <th></th>\n",
       "      <th>Company Name</th>\n",
       "      <th>Type</th>\n",
       "      <th>Employee Count</th>\n",
       "      <th>Rating</th>\n",
       "      <th>Old</th>\n",
       "    </tr>\n",
       "  </thead>\n",
       "  <tbody>\n",
       "    <tr>\n",
       "      <th>0</th>\n",
       "      <td>Chetu</td>\n",
       "      <td>Software Product</td>\n",
       "      <td>1k-5k Employees</td>\n",
       "      <td>3.3</td>\n",
       "      <td>24 years old</td>\n",
       "    </tr>\n",
       "    <tr>\n",
       "      <th>1</th>\n",
       "      <td>Adobe</td>\n",
       "      <td>Software Product</td>\n",
       "      <td>5k-10k Employees</td>\n",
       "      <td>4.1</td>\n",
       "      <td>42 years old</td>\n",
       "    </tr>\n",
       "    <tr>\n",
       "      <th>2</th>\n",
       "      <td>UKG</td>\n",
       "      <td>Software Product</td>\n",
       "      <td>1k-5k Employees</td>\n",
       "      <td>3.4</td>\n",
       "      <td>4 years old</td>\n",
       "    </tr>\n",
       "    <tr>\n",
       "      <th>3</th>\n",
       "      <td>Nucleus Software Exports</td>\n",
       "      <td>Software Product</td>\n",
       "      <td>1k-5k Employees</td>\n",
       "      <td>3.5</td>\n",
       "      <td>38 years old</td>\n",
       "    </tr>\n",
       "    <tr>\n",
       "      <th>4</th>\n",
       "      <td>Innovaccer</td>\n",
       "      <td>Software Product</td>\n",
       "      <td>1k-5k Employees</td>\n",
       "      <td>3.1</td>\n",
       "      <td>10 years old</td>\n",
       "    </tr>\n",
       "  </tbody>\n",
       "</table>\n",
       "</div>"
      ],
      "text/plain": [
       "               Company Name               Type      Employee Count  Rating  \\\n",
       "0                     Chetu  Software Product     1k-5k Employees      3.3   \n",
       "1                     Adobe  Software Product    5k-10k Employees      4.1   \n",
       "2                       UKG  Software Product     1k-5k Employees      3.4   \n",
       "3  Nucleus Software Exports  Software Product     1k-5k Employees      3.5   \n",
       "4                Innovaccer  Software Product     1k-5k Employees      3.1   \n",
       "\n",
       "              Old  \n",
       "0   24 years old   \n",
       "1   42 years old   \n",
       "2    4 years old   \n",
       "3   38 years old   \n",
       "4   10 years old   "
      ]
     },
     "execution_count": 2,
     "metadata": {},
     "output_type": "execute_result"
    }
   ],
   "source": [
    "df = pd.read_excel(path)\n",
    "df.head()"
   ]
  },
  {
   "cell_type": "code",
   "execution_count": 8,
   "id": "f6e1fe08",
   "metadata": {},
   "outputs": [
    {
     "name": "stdout",
     "output_type": "stream",
     "text": [
      "<class 'pandas.core.frame.DataFrame'>\n",
      "RangeIndex: 344 entries, 0 to 343\n",
      "Data columns (total 5 columns):\n",
      " #   Column          Non-Null Count  Dtype  \n",
      "---  ------          --------------  -----  \n",
      " 0   Company Name    344 non-null    object \n",
      " 1   Type            344 non-null    object \n",
      " 2   Employee Count  274 non-null    object \n",
      " 3   Rating          344 non-null    float64\n",
      " 4   Old             274 non-null    object \n",
      "dtypes: float64(1), object(4)\n",
      "memory usage: 13.6+ KB\n"
     ]
    }
   ],
   "source": [
    "df.info()"
   ]
  },
  {
   "cell_type": "code",
   "execution_count": 14,
   "id": "128c7d7d",
   "metadata": {},
   "outputs": [
    {
     "data": {
      "text/plain": [
       "Company Name       True\n",
       "Type               True\n",
       "Employee Count    False\n",
       "Rating             True\n",
       "Old               False\n",
       "dtype: bool"
      ]
     },
     "execution_count": 14,
     "metadata": {},
     "output_type": "execute_result"
    }
   ],
   "source": [
    "non_null_column = ~df.isnull().any()\n",
    "non_null_column\n"
   ]
  },
  {
   "cell_type": "code",
   "execution_count": 18,
   "id": "13fd6f94",
   "metadata": {},
   "outputs": [
    {
     "data": {
      "text/html": [
       "<div>\n",
       "<style scoped>\n",
       "    .dataframe tbody tr th:only-of-type {\n",
       "        vertical-align: middle;\n",
       "    }\n",
       "\n",
       "    .dataframe tbody tr th {\n",
       "        vertical-align: top;\n",
       "    }\n",
       "\n",
       "    .dataframe thead th {\n",
       "        text-align: right;\n",
       "    }\n",
       "</style>\n",
       "<table border=\"1\" class=\"dataframe\">\n",
       "  <thead>\n",
       "    <tr style=\"text-align: right;\">\n",
       "      <th></th>\n",
       "      <th>Company Name</th>\n",
       "      <th>Type</th>\n",
       "      <th>Rating</th>\n",
       "    </tr>\n",
       "  </thead>\n",
       "  <tbody>\n",
       "    <tr>\n",
       "      <th>0</th>\n",
       "      <td>Chetu</td>\n",
       "      <td>Software Product</td>\n",
       "      <td>3.3</td>\n",
       "    </tr>\n",
       "    <tr>\n",
       "      <th>1</th>\n",
       "      <td>Adobe</td>\n",
       "      <td>Software Product</td>\n",
       "      <td>4.1</td>\n",
       "    </tr>\n",
       "    <tr>\n",
       "      <th>2</th>\n",
       "      <td>UKG</td>\n",
       "      <td>Software Product</td>\n",
       "      <td>3.4</td>\n",
       "    </tr>\n",
       "    <tr>\n",
       "      <th>3</th>\n",
       "      <td>Nucleus Software Exports</td>\n",
       "      <td>Software Product</td>\n",
       "      <td>3.5</td>\n",
       "    </tr>\n",
       "    <tr>\n",
       "      <th>4</th>\n",
       "      <td>Innovaccer</td>\n",
       "      <td>Software Product</td>\n",
       "      <td>3.1</td>\n",
       "    </tr>\n",
       "    <tr>\n",
       "      <th>...</th>\n",
       "      <td>...</td>\n",
       "      <td>...</td>\n",
       "      <td>...</td>\n",
       "    </tr>\n",
       "    <tr>\n",
       "      <th>339</th>\n",
       "      <td>Bravura Solutions</td>\n",
       "      <td>Software Product</td>\n",
       "      <td>3.9</td>\n",
       "    </tr>\n",
       "    <tr>\n",
       "      <th>340</th>\n",
       "      <td>Goodera</td>\n",
       "      <td>Software Product</td>\n",
       "      <td>2.9</td>\n",
       "    </tr>\n",
       "    <tr>\n",
       "      <th>341</th>\n",
       "      <td>KDK Software</td>\n",
       "      <td>Software Product</td>\n",
       "      <td>3.2</td>\n",
       "    </tr>\n",
       "    <tr>\n",
       "      <th>342</th>\n",
       "      <td>AVEVA</td>\n",
       "      <td>Software Product</td>\n",
       "      <td>4.3</td>\n",
       "    </tr>\n",
       "    <tr>\n",
       "      <th>343</th>\n",
       "      <td>PTC</td>\n",
       "      <td>Software Product</td>\n",
       "      <td>4.2</td>\n",
       "    </tr>\n",
       "  </tbody>\n",
       "</table>\n",
       "<p>344 rows × 3 columns</p>\n",
       "</div>"
      ],
      "text/plain": [
       "                 Company Name               Type  Rating\n",
       "0                       Chetu  Software Product      3.3\n",
       "1                       Adobe  Software Product      4.1\n",
       "2                         UKG  Software Product      3.4\n",
       "3    Nucleus Software Exports  Software Product      3.5\n",
       "4                  Innovaccer  Software Product      3.1\n",
       "..                        ...                ...     ...\n",
       "339         Bravura Solutions  Software Product      3.9\n",
       "340                   Goodera  Software Product      2.9\n",
       "341              KDK Software  Software Product      3.2\n",
       "342                     AVEVA  Software Product      4.3\n",
       "343                       PTC  Software Product      4.2\n",
       "\n",
       "[344 rows x 3 columns]"
      ]
     },
     "execution_count": 18,
     "metadata": {},
     "output_type": "execute_result"
    }
   ],
   "source": [
    "df.loc[:,non_null_column]"
   ]
  },
  {
   "cell_type": "code",
   "execution_count": 22,
   "id": "c44fb7ad",
   "metadata": {},
   "outputs": [
    {
     "name": "stdout",
     "output_type": "stream",
     "text": [
      "Index: 0, Company Name: Chetu\n"
     ]
    }
   ],
   "source": [
    "for index, row in df.iterrows():\n",
    "    print(f\"Index: {index}, Company Name: {row['Company Name']}\")\n",
    "    break\n"
   ]
  },
  {
   "cell_type": "code",
   "execution_count": 32,
   "id": "e57427da",
   "metadata": {},
   "outputs": [
    {
     "data": {
      "text/html": [
       "<div>\n",
       "<style scoped>\n",
       "    .dataframe tbody tr th:only-of-type {\n",
       "        vertical-align: middle;\n",
       "    }\n",
       "\n",
       "    .dataframe tbody tr th {\n",
       "        vertical-align: top;\n",
       "    }\n",
       "\n",
       "    .dataframe thead th {\n",
       "        text-align: right;\n",
       "    }\n",
       "</style>\n",
       "<table border=\"1\" class=\"dataframe\">\n",
       "  <thead>\n",
       "    <tr style=\"text-align: right;\">\n",
       "      <th></th>\n",
       "      <th>Company Name</th>\n",
       "      <th>Type</th>\n",
       "      <th>Employee Count</th>\n",
       "      <th>Rating</th>\n",
       "      <th>Old</th>\n",
       "    </tr>\n",
       "  </thead>\n",
       "  <tbody>\n",
       "    <tr>\n",
       "      <th>0</th>\n",
       "      <td>Chetu</td>\n",
       "      <td>Software Product</td>\n",
       "      <td>1k-5k Employees</td>\n",
       "      <td>3.3</td>\n",
       "      <td>24 years old</td>\n",
       "    </tr>\n",
       "    <tr>\n",
       "      <th>1</th>\n",
       "      <td>Adobe</td>\n",
       "      <td>Software Product</td>\n",
       "      <td>5k-10k Employees</td>\n",
       "      <td>4.1</td>\n",
       "      <td>42 years old</td>\n",
       "    </tr>\n",
       "    <tr>\n",
       "      <th>2</th>\n",
       "      <td>UKG</td>\n",
       "      <td>Software Product</td>\n",
       "      <td>1k-5k Employees</td>\n",
       "      <td>3.4</td>\n",
       "      <td>4 years old</td>\n",
       "    </tr>\n",
       "    <tr>\n",
       "      <th>3</th>\n",
       "      <td>Nucleus Software Exports</td>\n",
       "      <td>Software Product</td>\n",
       "      <td>1k-5k Employees</td>\n",
       "      <td>3.5</td>\n",
       "      <td>38 years old</td>\n",
       "    </tr>\n",
       "    <tr>\n",
       "      <th>4</th>\n",
       "      <td>Innovaccer</td>\n",
       "      <td>Software Product</td>\n",
       "      <td>1k-5k Employees</td>\n",
       "      <td>3.1</td>\n",
       "      <td>10 years old</td>\n",
       "    </tr>\n",
       "  </tbody>\n",
       "</table>\n",
       "</div>"
      ],
      "text/plain": [
       "               Company Name               Type      Employee Count  Rating  \\\n",
       "0                     Chetu  Software Product     1k-5k Employees      3.3   \n",
       "1                     Adobe  Software Product    5k-10k Employees      4.1   \n",
       "2                       UKG  Software Product     1k-5k Employees      3.4   \n",
       "3  Nucleus Software Exports  Software Product     1k-5k Employees      3.5   \n",
       "4                Innovaccer  Software Product     1k-5k Employees      3.1   \n",
       "\n",
       "              Old  \n",
       "0   24 years old   \n",
       "1   42 years old   \n",
       "2    4 years old   \n",
       "3   38 years old   \n",
       "4   10 years old   "
      ]
     },
     "execution_count": 32,
     "metadata": {},
     "output_type": "execute_result"
    }
   ],
   "source": [
    "df.iloc[:5,0:]"
   ]
  }
 ],
 "metadata": {
  "kernelspec": {
   "display_name": "Python LangGraph(venv)",
   "language": "python",
   "name": "venv"
  },
  "language_info": {
   "codemirror_mode": {
    "name": "ipython",
    "version": 3
   },
   "file_extension": ".py",
   "mimetype": "text/x-python",
   "name": "python",
   "nbconvert_exporter": "python",
   "pygments_lexer": "ipython3",
   "version": "3.12.6"
  }
 },
 "nbformat": 4,
 "nbformat_minor": 5
}
