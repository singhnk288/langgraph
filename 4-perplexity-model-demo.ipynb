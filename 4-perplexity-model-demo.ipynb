{
 "cells": [
  {
   "cell_type": "code",
   "execution_count": 10,
   "id": "53f8e4d4",
   "metadata": {},
   "outputs": [
    {
     "data": {
      "text/plain": [
       "True"
      ]
     },
     "execution_count": 10,
     "metadata": {},
     "output_type": "execute_result"
    }
   ],
   "source": [
    "from langchain_perplexity import ChatPerplexity\n",
    "from dotenv import load_dotenv\n",
    "\n",
    "load_dotenv()"
   ]
  },
  {
   "cell_type": "code",
   "execution_count": null,
   "id": "b4d027f4",
   "metadata": {},
   "outputs": [],
   "source": [
    "model = ChatPerplexity(model='sonar')\n",
    "\n",
    "response = model.invoke(\"what's the weather today in delhi\")"
   ]
  },
  {
   "cell_type": "code",
   "execution_count": 5,
   "id": "fffa556b",
   "metadata": {},
   "outputs": [
    {
     "data": {
      "text/plain": [
       "'The weather in Delhi today, July 19, 2025, is characterized by **low clouds in the morning giving way to some sun in the afternoon**. The high temperature is expected to reach around **92°F (33°C)**, with a low tonight of about **80°F (27°C)**. Conditions will be partly cloudy tonight[1].\\n\\nCurrent conditions at around noon show mist with temperature approximately **33°C**, humidity at 59%, wind speed around 9-16 km/h from the east/southeast, and moderate air quality[2][3].\\n\\nHumidity levels are quite high, with indoor humidity reaching dangerously humid levels in the late evening hours. Winds are mild to moderate with gusts up to 16-17 mph this afternoon[3].\\n\\nIn summary:\\n\\n| Aspect           | Details                          |\\n|------------------|---------------------------------|\\n| Temperature      | High 92°F (33°C), Low 80°F (27°C) |\\n| Sky condition    | Morning clouds, afternoon sun    |\\n| Humidity        | High, 59% currently               |\\n| Wind            | 9-17 km/h, mostly easterly       |\\n| Air Quality     | Moderate                        |\\n\\nShowers are expected starting Monday afternoon, but today remains mostly dry with some cloud break[1][2].'"
      ]
     },
     "execution_count": 5,
     "metadata": {},
     "output_type": "execute_result"
    }
   ],
   "source": [
    "response.content"
   ]
  },
  {
   "cell_type": "code",
   "execution_count": null,
   "id": "74980297",
   "metadata": {},
   "outputs": [],
   "source": []
  }
 ],
 "metadata": {
  "kernelspec": {
   "display_name": "Python LangGraph(venv)",
   "language": "python",
   "name": "venv"
  },
  "language_info": {
   "codemirror_mode": {
    "name": "ipython",
    "version": 3
   },
   "file_extension": ".py",
   "mimetype": "text/x-python",
   "name": "python",
   "nbconvert_exporter": "python",
   "pygments_lexer": "ipython3",
   "version": "3.12.6"
  }
 },
 "nbformat": 4,
 "nbformat_minor": 5
}
