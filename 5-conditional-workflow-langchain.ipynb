{
 "cells": [
  {
   "cell_type": "code",
   "execution_count": 93,
   "id": "5a36d92f",
   "metadata": {},
   "outputs": [
    {
     "data": {
      "text/plain": [
       "True"
      ]
     },
     "execution_count": 93,
     "metadata": {},
     "output_type": "execute_result"
    }
   ],
   "source": [
    "from langchain_perplexity import ChatPerplexity\n",
    "from langgraph.graph import START,END,StateGraph\n",
    "from dotenv import load_dotenv\n",
    "from pydantic import BaseModel,Field\n",
    "from typing import Literal,TypedDict,Annotated\n",
    "from operator import add\n",
    "load_dotenv()"
   ]
  },
  {
   "cell_type": "code",
   "execution_count": 94,
   "id": "1dd5937a",
   "metadata": {},
   "outputs": [],
   "source": [
    "#%pip install -qU duckduckgo-search langchain-community"
   ]
  },
  {
   "cell_type": "code",
   "execution_count": 95,
   "id": "b03269c3",
   "metadata": {},
   "outputs": [],
   "source": [
    "from langchain_community.tools import DuckDuckGoSearchRun as SearchEngine"
   ]
  },
  {
   "cell_type": "code",
   "execution_count": 96,
   "id": "a4b2915a",
   "metadata": {},
   "outputs": [
    {
     "data": {
      "text/plain": [
       "AIMessage(content='The temperature in Lucknow today, July 19, 2025, is around **35 degrees Celsius** (95°F) during the day, with a minimum temperature of about **27 degrees Celsius** at night. The weather is generally clear with a humidity of 64% and a wind speed of approximately 5.73 km/h coming from 252 degrees, gusting up to 9.37 km/h. The temperature is expected to hover near 35°C throughout the day[1].\\n\\nIn Fahrenheit, the current temperature is reported around **93°F to 95°F**, with a \"feels like\" temperature reaching as high as 106-107°F due to heat and humidity[2][4]. The sky conditions are mostly sunny with some scattered clouds.\\n\\nSunrise is at 5:24 AM and sunset at 7:01 PM today in Lucknow[1].', additional_kwargs={'citations': ['https://www.indiatoday.in/weather/lucknow-weather-forecast-today', 'https://www.timeanddate.com/weather/india/lucknow', 'https://timesofindia.indiatimes.com/travel/lucknow/weather', 'https://www.accuweather.com/en/in/lucknow/206678/current-weather/206678', 'https://www.timeanddate.com/weather/india/lucknow/ext']}, response_metadata={'model_name': 'sonar'}, id='run--9671c12f-b40b-4851-97e2-bafabb827597-0', usage_metadata={'input_tokens': 8, 'output_tokens': 180, 'total_tokens': 188})"
      ]
     },
     "execution_count": 96,
     "metadata": {},
     "output_type": "execute_result"
    }
   ],
   "source": [
    "model = ChatPerplexity(model='sonar')\n",
    "result = model.invoke(\"What is the temperature in lucknow today\")\n",
    "result"
   ]
  },
  {
   "cell_type": "code",
   "execution_count": 97,
   "id": "7d44ef68",
   "metadata": {},
   "outputs": [],
   "source": [
    "class FixedOutputTemp(BaseModel):\n",
    "    temperature:int=Field(description=\"Provide the temperature in celsius\",le=60)\n",
    "    weatherType:Literal[\"Cloudy\",\"Sunny\",\"Rainy\",\"Thunderstorm\",\"Snowy\"] = Field(description=\"Accepted Values: Cloudy,Sunny,Rainy,Thunderstorm,Snowy\")"
   ]
  },
  {
   "cell_type": "code",
   "execution_count": 98,
   "id": "d9701850",
   "metadata": {},
   "outputs": [],
   "source": [
    "modelWithStruct = model.with_structured_output(FixedOutputTemp)"
   ]
  },
  {
   "cell_type": "code",
   "execution_count": 99,
   "id": "c5f7f272",
   "metadata": {},
   "outputs": [],
   "source": [
    "class state(TypedDict):\n",
    "    city:str\n",
    "    temperature:int\n",
    "    weatherType:Literal[\"Cloudy\",\"Sunny\",\"Rainy\",\"Thunderstorm\",\"Snowy\"]\n",
    "    advisory:Annotated[str,add]\n",
    "    listofSessionalDish:str"
   ]
  },
  {
   "cell_type": "code",
   "execution_count": 107,
   "id": "5c9fd0ab",
   "metadata": {},
   "outputs": [],
   "source": [
    "def searchTemperature(state):\n",
    "    prompt = f\"What is the temperature and Weather type in {state['city']} city today, provide your response in celsius and Weather type choose only from given list: Cloudy,Sunny,Rainy,Thunderstorm,Snowy\"\n",
    "    response = modelWithStruct.invoke(prompt)\n",
    "    temperature = response.temperature\n",
    "    weatherType= response.weatherType\n",
    "    return {\"temperature\":temperature,\"weatherType\":weatherType}\n",
    "\n",
    "def seriousAdvisory(state):\n",
    "    prompt = f\"Write a serious advisory for weather {state['weatherType']} and temperature {state['temperature']} celsius for public broadcast via sms - response should be in 200 character max\"\n",
    "    response = model.invoke(prompt)\n",
    "    return {\"advisory\":response.content}\n",
    "\n",
    "def motivationAdvisoryTosStayHome(state):\n",
    "    prompt = f\"Write a motivation advisory for weather {state['weatherType']} and temperature {state['temperature']} celsius for public broadcast to stay home via sms - response should be in 200 character max\"\n",
    "    response = model.invoke(prompt)\n",
    "    return {\"advisory\":response.content}\n",
    "\n",
    "def listOfBestDish(state):\n",
    "    prompt = f\"Suggest 3 best dish for weather {state['weatherType']} and temperature {state['temperature']} celsius, purpose :public broadcast via sms, Condition:response should be in 200 character max\"\n",
    "    response = model.invoke(prompt)\n",
    "    return {\"listofSessionalDish\":response.content}"
   ]
  },
  {
   "cell_type": "code",
   "execution_count": 108,
   "id": "798c5b5f",
   "metadata": {},
   "outputs": [],
   "source": [
    "def conditionJump(state)->Literal[\"seriousAdvisory\",\"motivationAdvisoryTosStayHome\",END]:\n",
    "    if state['weatherType'] == \"Thunderstorm\":\n",
    "        return \"seriousAdvisory\"\n",
    "    elif state['weatherType'] in [\"Cloudy\",\"Rainy\",\"Snowy\"]:\n",
    "        return \"motivationAdvisoryTosStayHome\"\n",
    "    else:\n",
    "        return END\n",
    "    "
   ]
  },
  {
   "cell_type": "code",
   "execution_count": 109,
   "id": "130881cb",
   "metadata": {},
   "outputs": [
    {
     "data": {
      "text/plain": [
       "<langgraph.graph.state.StateGraph at 0x20714ffdc10>"
      ]
     },
     "execution_count": 109,
     "metadata": {},
     "output_type": "execute_result"
    }
   ],
   "source": [
    "workflow = StateGraph(state)\n",
    "workflow.add_node(\"searchTemperature\",searchTemperature)\n",
    "workflow.add_node(\"seriousAdvisory\",seriousAdvisory)\n",
    "workflow.add_node(\"motivationAdvisoryTosStayHome\",motivationAdvisoryTosStayHome)\n",
    "workflow.add_node(\"listOfBestDish\",listOfBestDish)\n",
    "\n",
    "# edge\n",
    "workflow.add_edge(START,\"searchTemperature\")\n",
    "workflow.add_conditional_edges(\"searchTemperature\",conditionJump)\n",
    "workflow.add_edge(\"searchTemperature\",\"seriousAdvisory\")\n",
    "workflow.add_edge(\"searchTemperature\",\"motivationAdvisoryTosStayHome\")\n",
    "workflow.add_edge(\"seriousAdvisory\",END)\n",
    "workflow.add_edge(\"motivationAdvisoryTosStayHome\",\"listOfBestDish\")\n",
    "workflow.add_edge(\"listOfBestDish\",END)\n",
    "\n"
   ]
  },
  {
   "cell_type": "code",
   "execution_count": 110,
   "id": "00e46efd",
   "metadata": {},
   "outputs": [],
   "source": [
    "graph= workflow.compile()"
   ]
  },
  {
   "cell_type": "code",
   "execution_count": 104,
   "id": "08132385",
   "metadata": {},
   "outputs": [
    {
     "data": {
      "image/png": "[encoded data removed]",
      "text/plain": [
       "<langgraph.graph.state.CompiledStateGraph object at 0x0000020711EB9520>"
      ]
     },
     "execution_count": 104,
     "metadata": {},
     "output_type": "execute_result"
    }
   ],
   "source": [
    "graph"
   ]
  },
  {
   "cell_type": "code",
   "execution_count": 113,
   "id": "c959a8c2",
   "metadata": {},
   "outputs": [
    {
     "name": "stdout",
     "output_type": "stream",
     "text": [
      "Rainy\n",
      "Stay safe today! With rainy weather and a cool 20°C, it's best to stay home, avoid travel, and keep warm and dry. Rest, relax, and wait for clearer skies. Your safety matters!**Public Advisory:** Light rain expected with temperatures around 20°C. Carry an umbrella, drive carefully, and watch for slippery surfaces. Stay updated on local forecasts for any changes in weather conditions.\n",
      "For a rainy day at 20°C, enjoy these comforting dishes:\n",
      "- **Chicken Soup**: Warm and soothing.\n",
      "- **Umnqusho**: Traditional and hearty.\n",
      "- **Baked Potatoes**: Cozy and satisfying.\n"
     ]
    }
   ],
   "source": [
    "result = graph.invoke({'city':\"Karnataka\"})\n",
    "print(result['weatherType'])\n",
    "print(result[\"advisory\"])\n",
    "print(result['listofSessionalDish'])"
   ]
  },
  {
   "cell_type": "code",
   "execution_count": 114,
   "id": "8511127c",
   "metadata": {},
   "outputs": [
    {
     "name": "stdout",
     "output_type": "stream",
     "text": [
      "Cloudy\n",
      "Stay safe today! With cloudy skies and a warm 29°C, it's best to stay home, hydrate well, and avoid unnecessary outdoor activities. Protect your health and comfort indoors.\"Advisory: Cloudy conditions with a temperature of 29°C. Stay hydrated and monitor weather updates.\"\n",
      "\"Stay cool with these dishes on a cloudy day: **1. Salads**, **2. Grilled Chicken**, **3. Iced Tea**.\"\n"
     ]
    }
   ],
   "source": [
    "result = graph.invoke({'city':\"Pune\"})\n",
    "print(result['weatherType'])\n",
    "print(result[\"advisory\"])\n",
    "print(result['listofSessionalDish'])\n"
   ]
  },
  {
   "cell_type": "code",
   "execution_count": null,
   "id": "53eab109",
   "metadata": {},
   "outputs": [],
   "source": []
  }
 ],
 "metadata": {
  "kernelspec": {
   "display_name": "Python LangGraph(venv)",
   "language": "python",
   "name": "venv"
  },
  "language_info": {
   "codemirror_mode": {
    "name": "ipython",
    "version": 3
   },
   "file_extension": ".py",
   "mimetype": "text/x-python",
   "name": "python",
   "nbconvert_exporter": "python",
   "pygments_lexer": "ipython3",
   "version": "3.12.6"
  }
 },
 "nbformat": 4,
 "nbformat_minor": 5
}
